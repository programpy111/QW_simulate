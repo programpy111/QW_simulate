{
 "cells": [
  {
   "cell_type": "markdown",
   "id": "222488ed-c0cc-46fe-9746-a989f8d3c906",
   "metadata": {},
   "source": [
    "量子ウォークとランダムウォークをプロットするソースコード  \n",
    "時間発展演算子 $U(t) = e^{i t \\frac{A}{2}}$  (あるいは $U(t) = e^{i t \\frac{A}{2}}$) 、$A$ を隣接行列として計算した場合"
   ]
  },
  {
   "cell_type": "code",
   "execution_count": null,
   "id": "a0b64b76-c3fb-4a6d-a776-33a8fe7dd47e",
   "metadata": {},
   "outputs": [],
   "source": [
    "# 完成版\n",
    "\n",
    "import numpy as np\n",
    "from scipy.linalg import expm\n",
    "import matplotlib.pyplot as plt\n",
    "from ipywidgets import interact, FloatSlider, Output"
   ]
  },
  {
   "cell_type": "markdown",
   "id": "e793545f-ada4-4002-8892-2d16996af73c",
   "metadata": {},
   "source": [
    "波動関数 $\\psi(t)$ を x1×1の行列とする。これは、1次元軸上に粒子が x1 個並んでいる状態を表している。\n",
    "また、$$\\psi(t) = U(t) \\psi(0)$$($\\psi(0) = initialstate$) である。"
   ]
  },
  {
   "cell_type": "code",
   "execution_count": null,
   "id": "3361d216-6a62-44e6-8ffb-806329b41b28",
   "metadata": {},
   "outputs": [],
   "source": [
    "# 有効数字を3桁に設定\n",
    "#np.set_printoptions(precision=1)\n",
    "\n",
    "# グラフのサイズ\n",
    "x1 = 101\n",
    "\n",
    "# 初期状態ベクトルを定義\n",
    "initial_state = np.zeros((x1, 1))\n",
    "initial_state[50]= 1\n",
    "#initial_state[140]= 0.4\n",
    "#initial_state[100]= 0.1\n",
    "#print(initial_state)\n",
    "\n",
    "# 出力エリアの作成\n",
    "output = Output()\n",
    "\n",
    "def quantum_walk(c1, c2, t1):\n",
    "    with output:\n",
    "        output.clear_output(wait=True)  # 出力をクリア\n",
    "        # 隣接行列の作成\n",
    "        A = np.zeros((x1, x1))\n",
    "        \n",
    "        for i in range(x1):\n",
    "            A[i, (i + 1) % x1] = c1\n",
    "            A[i, (i - 1) % x1] = c1\n",
    "            A[i, i%x1] = 1 - c1\n",
    "\n",
    "            #追加の補足\n",
    "            A[x1-1,0] = c1\n",
    "            A[0,x1-1] = c1\n",
    "\n",
    "            #A[0,1] = 2*c1\n",
    "            #A[2,1] = 2*c1\n",
    "\n",
    "        #c2は二次元格子用　現在は使用しない\n",
    "            \n",
    "        #print(A)\n",
    "        #print(\"Aはユニタリ？{}\".format(np.dot(A,A.T) ))\n",
    "\n",
    "        # 時間発展演算子 U_t の計算\n",
    "        U_t = expm(-1j * t1 * A / 2)\n",
    "        #print(\"-1j*t1*A/2={}\".format(-1j * t1 * A / 2))\n",
    "        #print(U_t)\n",
    "\n",
    "        absU = 0\n",
    "        for p1 in range(x1):\n",
    "            absU += abs(U_t[p1,int((x1-1)/2)])**2\n",
    "        #print(absU)\n",
    "        #print((A)**2)\n",
    "        #print(\"U_tはユニタリ?  {}\".format(np.dot(U_t,U_t.T)))\n",
    "        # 時間発展後の状態を計算\n",
    "        final_state = U_t @ initial_state\n",
    "        #final_state = U_t @ np.array(initial_state).T\n",
    "\n",
    "        if t1 % 1.0 == 0:\n",
    "            A_yobi = np.copy(A)\n",
    "            for i in range(int(t1)):\n",
    "                A_yobi = np.dot(A_yobi, A)\n",
    "            R_t = np.copy(A_yobi)\n",
    "\n",
    "        final_state2 = R_t @ initial_state\n",
    "        probabilities2 = np.abs(final_state2)**2\n",
    "        print(\"ランダムウォークの存在確率の合計は1になるか{}\".format(np.sum(final_state2)))\n",
    "        # 状態の確率分布をプロット\n",
    "        probabilities = np.abs(final_state)**2\n",
    "        #print(probabilities)\n",
    "        #probabilities = np.abs(final_state)\n",
    "        plt.figure(figsize=(10, 2))\n",
    "        plt.bar(range(x1), probabilities.flatten())\n",
    "        plt.xlabel('Node')\n",
    "        plt.ylabel('Probability')\n",
    "        plt.title(f'Probability Distribution after time t=1 (c1={c1}, c2={c2})')\n",
    "        plt.show()\n",
    "\n",
    "        plt.figure(figsize=(10, 2))\n",
    "        plt.bar(range(x1), probabilities2.flatten())\n",
    "        plt.xlabel('Node')\n",
    "        plt.ylabel('Probability')\n",
    "        plt.title(f'Probability Distribution after time2 t=1 (c1={c1}, c2={c2})')\n",
    "        plt.show()"
   ]
  },
  {
   "cell_type": "code",
   "execution_count": null,
   "id": "786d585a-a073-478b-a3db-4931ff9b2a65",
   "metadata": {},
   "outputs": [],
   "source": [
    "# スライダーバーの定義\n",
    "c1_slider = FloatSlider(min=0, max=20, step=0.1, value=1, description='c1')\n",
    "c2_slider = FloatSlider(min=0, max=20, step=0.1, value=1, description='c2')\n",
    "t1_slider = FloatSlider(min=0, max=500, step=1.0, value=1, description='t1')\n",
    "\n",
    "# インタラクティブ機能の起動\n",
    "interact(quantum_walk, c1=c1_slider, c2=c2_slider, t1=t1_slider);\n",
    "\n",
    "# スライダーの下に出力を配置\n",
    "display(output)"
   ]
  }
 ],
 "metadata": {
  "kernelspec": {
   "display_name": "Python 3 (ipykernel)",
   "language": "python",
   "name": "python3"
  },
  "language_info": {
   "codemirror_mode": {
    "name": "ipython",
    "version": 3
   },
   "file_extension": ".py",
   "mimetype": "text/x-python",
   "name": "python",
   "nbconvert_exporter": "python",
   "pygments_lexer": "ipython3",
   "version": "3.8.2"
  }
 },
 "nbformat": 4,
 "nbformat_minor": 5
}
